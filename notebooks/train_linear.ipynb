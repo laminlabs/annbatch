{
 "cells": [
  {
   "cell_type": "code",
   "execution_count": null,
   "id": "initial_id",
   "metadata": {},
   "outputs": [],
   "source": [
    "import anndata as ad\n",
    "import lightning as L\n",
    "from tqdm import tqdm\n",
    "\n",
    "import warnings\n",
    "import os\n",
    "from os.path import join"
   ]
  },
  {
   "cell_type": "code",
   "execution_count": null,
   "id": "b17db3c4-7a29-4b70-981b-2d60c9c781fd",
   "metadata": {},
   "outputs": [],
   "source": [
    "%load_ext autoreload"
   ]
  },
  {
   "cell_type": "code",
   "execution_count": null,
   "id": "b6b42b26-24ad-4b2b-996c-8c90b9084620",
   "metadata": {},
   "outputs": [],
   "source": [
    "%autoreload\n",
    "from modlyn.io.datamodules import ClassificationDataModule\n",
    "from modlyn.models.linear import Linear\n",
    "from modlyn.io.loading import read_lazy"
   ]
  },
  {
   "cell_type": "code",
   "execution_count": null,
   "id": "1d81f539a4bf40f",
   "metadata": {},
   "outputs": [],
   "source": [
    "DATA_DIR = \"/mnt/dssmcmlfs01/tahoe100M\"\n",
    "\n",
    "with warnings.catch_warnings():\n",
    "    warnings.simplefilter(\"ignore\")  # ignore zarr warnings that zarrv3 codec is not final yet\n",
    "    adata = ad.concat([\n",
    "        read_lazy(join(DATA_DIR, chunk)) for chunk in tqdm(os.listdir(DATA_DIR))\n",
    "    ])"
   ]
  },
  {
   "cell_type": "code",
   "execution_count": null,
   "id": "38be80a1fbab2acf",
   "metadata": {},
   "outputs": [],
   "source": [
    "adata.obs[\"y\"] = adata.obs[\"cell_line\"].astype(\"category\").cat.codes.to_numpy().astype(\"i8\")"
   ]
  },
  {
   "cell_type": "code",
   "execution_count": null,
   "id": "329d398cb977bb59",
   "metadata": {},
   "outputs": [],
   "source": [
    "adata_train = adata[:80_527_360]\n",
    "adata_val = adata[80_527_360:]\n",
    "\n",
    "datamodule = ClassificationDataModule(\n",
    "    adata_train=adata_train,\n",
    "    adata_val=adata_val,\n",
    "    label_column=\"y\",\n",
    "    train_dataloader_kwargs={\n",
    "        \"batch_size\": 2048,\n",
    "        \"drop_last\": True,\n",
    "    },\n",
    "    val_dataloader_kwargs={\n",
    "        \"batch_size\": 2048,\n",
    "        \"drop_last\": False,\n",
    "    },\n",
    ")"
   ]
  },
  {
   "cell_type": "code",
   "execution_count": null,
   "id": "69d2fa7837fec3ac",
   "metadata": {},
   "outputs": [],
   "source": [
    "linear = Linear(\n",
    "    n_genes=adata.n_vars,\n",
    "    n_covariates=adata.obs[\"y\"].nunique(),\n",
    "    learning_rate=1e-2,\n",
    ")"
   ]
  },
  {
   "cell_type": "code",
   "execution_count": null,
   "id": "ee039db6824356cf",
   "metadata": {},
   "outputs": [],
   "source": [
    "trainer = L.Trainer(\n",
    "    max_epochs=3,\n",
    "    log_every_n_steps=100,\n",
    "    max_steps=1000,  # only fit a few steps for the sake of this tutorial\n",
    ")"
   ]
  },
  {
   "cell_type": "code",
   "execution_count": null,
   "id": "89df6b840d815e34",
   "metadata": {},
   "outputs": [],
   "source": [
    "trainer.fit(model=linear, datamodule=datamodule)"
   ]
  },
  {
   "cell_type": "code",
   "execution_count": null,
   "id": "b5a8a989-e9fc-4f8d-821c-67be24ff96b2",
   "metadata": {},
   "outputs": [],
   "source": []
  }
 ],
 "metadata": {
  "kernelspec": {
   "display_name": "Python 3 (ipykernel)",
   "language": "python",
   "name": "python3"
  },
  "language_info": {
   "codemirror_mode": {
    "name": "ipython",
    "version": 3
   },
   "file_extension": ".py",
   "mimetype": "text/x-python",
   "name": "python",
   "nbconvert_exporter": "python",
   "pygments_lexer": "ipython3",
   "version": "3.12.3"
  }
 },
 "nbformat": 4,
 "nbformat_minor": 5
}
