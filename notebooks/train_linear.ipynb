{
 "cells": [
  {
   "cell_type": "code",
   "execution_count": null,
   "id": "initial_id",
   "metadata": {
    "collapsed": true
   },
   "outputs": [],
   "source": [
    "import anndata as ad\n",
    "import lightning as L\n",
    "\n",
    "import os\n",
    "from os.path import join\n",
    "\n",
    "from modlyn.io.datamodules import ClassificationDataModule\n",
    "from modlyn.models.linear import Linear\n",
    "from modlyn.io.loading import read_lazy"
   ]
  },
  {
   "metadata": {},
   "cell_type": "code",
   "outputs": [],
   "execution_count": null,
   "source": [
    "DATA_DIR = \"/home/sagemaker-user/tahoe-100M\"\n",
    "adata_chunks = os.listdir(DATA_DIR)\n",
    "\n",
    "adata = ad.concat([\n",
    "    read_lazy(join(DATA_DIR, chunk) for chunk in os.listdir(DATA_DIR))\n",
    "])"
   ],
   "id": "1d81f539a4bf40f"
  },
  {
   "metadata": {},
   "cell_type": "code",
   "outputs": [],
   "execution_count": null,
   "source": "adata.obs[\"y\"] = adata.obs[\"cell_line\"].astype(\"category\").cat.codes.to_numpy()",
   "id": "38be80a1fbab2acf"
  },
  {
   "metadata": {},
   "cell_type": "code",
   "outputs": [],
   "execution_count": null,
   "source": [
    "adata_train = adata[:80_527_360]\n",
    "adata_val = adata[80_527_360:]\n",
    "\n",
    "datamodule = ClassificationDataModule(\n",
    "    adata_train=adata_train,\n",
    "    adata_val=adata_val,\n",
    "    label_column=\"y\",\n",
    "    train_dataloader_kwargs={\n",
    "        \"batch_size\": 2048,\n",
    "        \"shuffle\": True,\n",
    "        \"drop_last\": True,\n",
    "    },\n",
    "    val_dataloader_kwargs={\n",
    "        \"batch_size\": 2048,\n",
    "        \"shuffle\": False,\n",
    "        \"drop_last\": False,\n",
    "    },\n",
    ")"
   ],
   "id": "329d398cb977bb59"
  },
  {
   "metadata": {},
   "cell_type": "code",
   "outputs": [],
   "execution_count": null,
   "source": [
    "linear = Linear(\n",
    "    n_genes=adata.n_vars,\n",
    "    n_covariates=adata.obs[\"y\"].nunique(),\n",
    "    learning_rate=1e-2,\n",
    ")"
   ],
   "id": "69d2fa7837fec3ac"
  },
  {
   "metadata": {},
   "cell_type": "code",
   "outputs": [],
   "execution_count": null,
   "source": [
    "trainer = L.Trainer(\n",
    "    max_epochs=3,\n",
    "    log_every_n_steps=100\n",
    ")"
   ],
   "id": "ee039db6824356cf"
  },
  {
   "metadata": {},
   "cell_type": "code",
   "outputs": [],
   "execution_count": null,
   "source": "trainer.fit(model=linear, datamodule=datamodule)",
   "id": "89df6b840d815e34"
  },
  {
   "metadata": {},
   "cell_type": "code",
   "outputs": [],
   "execution_count": null,
   "source": "",
   "id": "75c289ef9fb4313b"
  }
 ],
 "metadata": {
  "kernelspec": {
   "display_name": "Python 3",
   "language": "python",
   "name": "python3"
  },
  "language_info": {
   "codemirror_mode": {
    "name": "ipython",
    "version": 2
   },
   "file_extension": ".py",
   "mimetype": "text/x-python",
   "name": "python",
   "nbconvert_exporter": "python",
   "pygments_lexer": "ipython2",
   "version": "2.7.6"
  }
 },
 "nbformat": 4,
 "nbformat_minor": 5
}
